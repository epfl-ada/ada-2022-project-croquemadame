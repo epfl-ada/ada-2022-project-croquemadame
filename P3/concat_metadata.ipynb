{
 "cells": [
  {
   "attachments": {},
   "cell_type": "markdown",
   "metadata": {},
   "source": [
    "##### CONCATENATE METADATA #####\n",
    "\n",
    "Use this file to merge the metadata files into one unique file."
   ]
  },
  {
   "cell_type": "code",
   "execution_count": null,
   "metadata": {},
   "outputs": [],
   "source": [
    "import pandas as pd\n",
    "\n",
    "### ALL PATHS ###\n",
    "DIR = \"../data\"\n",
    "WRITE_METADATA_PATH   = DIR + \"/ent_metadata.tsv.zip\"\n",
    "READ_TIMESERIES_PATH  = DIR + \"/ent_timeseries_15p.tsv.zip\"\n",
    "READ_CHANNELS_PATH    = DIR + \"/ent_channels_15p.tsv.zip\"\n",
    "WRITE_TIMESERIES_PATH = DIR + \"/ent_timeseries_15p.tsv.zip\"\n",
    "WRITE_CHANNELS_PATH   = DIR + \"/ent_channels_15p.tsv.zip\"\n",
    "nb_files = 6\n",
    "\n",
    "### READS ###\n",
    "\n",
    "timeseries = pd.read_csv(WRITE_TIMESERIES_PATH)\n",
    "channels   = pd.read_csv(WRITE_CHANNELS_PATH)\n",
    "\n",
    "### CONCAT ###\n",
    "\n",
    "ent_metadata = pd.DataFrame()\n",
    "for i in range(nb_files):\n",
    "    print(\"Start metadata \", i)\n",
    "    \n",
    "    # PATH\n",
    "    METADATA_PATH = DIR + \"metadata/ent_metadata\" + str(i) + \".tsv.zip\"\n",
    "    print(\"Path done - \")\n",
    "    \n",
    "    # READ\n",
    "    metadata = pd.read_csv(METADATA_PATH)\n",
    "    print(\"Read done - \")\n",
    "    \n",
    "    # CONCAT\n",
    "    ent_metadata = pd.concat([ent_metadata, metadata], ignore_index=True)\n",
    "    print(\"Concat done - \")\n",
    "\n",
    "### KEEP COMMON CHANNELS BETWEEN ALL DATAFRAMES ###\n",
    "\n",
    "#treatment\n",
    "channel_ids = ent_metadata[['channel']].drop_duplicates()\n",
    "channels = pd.merge(channels, channel_ids)\n",
    "timeseries = pd.merge(timeseries, channel_ids)\n",
    "channel_ids = channels[['channel']].drop_duplicates()\n",
    "ent_metadata = pd.merge(ent_metadata, channel_ids)\n",
    "\n",
    "### WRITES ###\n",
    "\n",
    "channels.to_csv(WRITE_CHANNELS_PATH, index=False, compression={'method':'zip'})\n",
    "timeseries.to_csv(WRITE_TIMESERIES_PATH, index=False, compression={'method':'zip'})\n",
    "ent_metadata.to_csv(WRITE_METADATA_PATH, index=False, compression={'method':'zip'})"
   ]
  }
 ],
 "metadata": {
  "kernelspec": {
   "display_name": "Python 3",
   "language": "python",
   "name": "python3"
  },
  "language_info": {
   "name": "python",
   "version": "3.10.7 (tags/v3.10.7:6cc6b13, Sep  5 2022, 14:08:36) [MSC v.1933 64 bit (AMD64)]"
  },
  "orig_nbformat": 4,
  "vscode": {
   "interpreter": {
    "hash": "d2c1617acfb65407c86c6c9be757a3a696331c1921657d6ade4f6ab965232f3d"
   }
  }
 },
 "nbformat": 4,
 "nbformat_minor": 2
}
