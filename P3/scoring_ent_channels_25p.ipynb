{
 "cells": [
  {
   "cell_type": "code",
   "execution_count": 1,
   "metadata": {},
   "outputs": [],
   "source": [
    "### IMPORTS ###\n",
    "# import used libraries\n",
    "import pandas as pd                        # pandas for data analysis\n",
    "pd.options.mode.chained_assignment = None  # default='warn'\n",
    "import matplotlib.pyplot as plt            # matplotlib for data visualisation"
   ]
  },
  {
   "cell_type": "code",
   "execution_count": 2,
   "metadata": {},
   "outputs": [],
   "source": [
    "### PATHS ###\n",
    "\n",
    "DIR = \"../data/\"\n",
    "\n",
    "#read\n",
    "READ_TIMESERIES_PATH = DIR + \"original_timeseries.tsv.gz\" \n",
    "READ_CHANNELS_PATH   = DIR + \"original_channels.tsv.gz\"\n",
    "\n",
    "#write\n",
    "WRITE_TIMESERIES_PATH = DIR + \"ent_timeseries.tsv.zip\"\n",
    "WRITE_CHANNELS_PATH   = DIR + \"ent_channels.tsv.zip\" "
   ]
  },
  {
   "cell_type": "code",
   "execution_count": 3,
   "metadata": {},
   "outputs": [],
   "source": [
    "### READS ###\n",
    "\n",
    "timeseries = pd.read_csv(READ_TIMESERIES_PATH, sep='\\t')\n",
    "channels   = pd.read_csv(READ_CHANNELS_PATH, sep='\\t')\n",
    "\n",
    "#set dates format\n",
    "timeseries['datetime'] = pd.to_datetime(timeseries['datetime'])\n",
    "channels['join_date'] = pd.to_datetime(channels['join_date'])"
   ]
  },
  {
   "cell_type": "code",
   "execution_count": 4,
   "metadata": {},
   "outputs": [],
   "source": [
    "### CHOOSE FOCUS CHANNELS ###\n",
    "\n",
    "#keep only channels from Entertainment category\n",
    "ent_channels = channels[(channels['category_cc'] == 'Entertainment')]\n",
    "\n",
    "#keep the intersection between the choosen channels and the timeseries\n",
    "channel_ids = ent_channels[['channel']].drop_duplicates()\n",
    "ent_timeseries = pd.merge(timeseries, channel_ids)\n",
    "channel_ids = ent_timeseries[['channel']].drop_duplicates()\n",
    "ent_channels = pd.merge(ent_channels, channel_ids)"
   ]
  },
  {
   "cell_type": "code",
   "execution_count": 5,
   "metadata": {},
   "outputs": [],
   "source": [
    "### SCORING CHANNELS ###\n",
    "p = 0.25 #percentile\n",
    "\n",
    "#take last data date for each channel\n",
    "ent_channels_last_data = ent_timeseries.sort_values(by=['datetime'], inplace=False, ascending=False) \\\n",
    "                                   .drop_duplicates('channel') \\\n",
    "                                   .rename(columns={'datetime':'last_date','subs':'last_subs'})\n",
    "\n",
    "# assign last data to each channel\n",
    "ent_channels = pd.merge(ent_channels,ent_channels_last_data[['channel','last_date','last_subs']], on='channel')\n",
    "\n",
    "#compute the activity period for each channel (in days)\n",
    "ent_channels['period'] = ent_channels.last_date - ent_channels.join_date\n",
    "\n",
    "#compute the growth score for each channel\n",
    "ent_channels['growth_score'] = ent_channels.last_subs / ent_channels.period.dt.days\n",
    "\n",
    "#sort channels by growth score and filter out NaN values\n",
    "ent_channels.sort_values(by=['growth_score'], inplace=True, ascending=False)\n",
    "ent_channels = ent_channels[ent_channels['growth_score'].notna()]\n",
    "\n",
    "#keeps only 25% top and 25% bottom channels\n",
    "top_channels = ent_channels.nlargest(int(len(ent_channels)*p), 'growth_score')[['channel','growth_score']]\n",
    "bottom_channels = ent_channels.nsmallest(int(len(ent_channels)*p), 'growth_score')[['channel','growth_score']]\n",
    "evo_channels = pd.concat([top_channels, bottom_channels]).sort_values('growth_score', ascending=False)\n",
    "evo_channels['has_buzzed'] = 0 + 1 * (evo_channels['growth_score'] > bottom_channels['growth_score'].max())\n",
    "\n",
    "ent_channels = pd.merge(ent_channels, evo_channels[['channel','has_buzzed']], on='channel')\n",
    "ent_timeseries = pd.merge(ent_timeseries, ent_channels[['channel', 'has_buzzed']], on='channel')"
   ]
  },
  {
   "cell_type": "code",
   "execution_count": 6,
   "metadata": {},
   "outputs": [],
   "source": [
    "### SAVE PROCESSED DATA ###\n",
    "\n",
    "ent_channels.to_csv(WRITE_CHANNELS_PATH, index=False, compression={'method':'zip'})\n",
    "ent_timeseries.to_csv(WRITE_TIMESERIES_PATH, index=False, compression={'method':'zip'})"
   ]
  }
 ],
 "metadata": {
  "kernelspec": {
   "display_name": "ada",
   "language": "python",
   "name": "python3"
  },
  "language_info": {
   "codemirror_mode": {
    "name": "ipython",
    "version": 3
   },
   "file_extension": ".py",
   "mimetype": "text/x-python",
   "name": "python",
   "nbconvert_exporter": "python",
   "pygments_lexer": "ipython3",
   "version": "3.9.13"
  },
  "orig_nbformat": 4,
  "vscode": {
   "interpreter": {
    "hash": "18c32a2b66552a3f09b8a3b497862286fc4b79643dbf6273d2fe975b8b827621"
   }
  }
 },
 "nbformat": 4,
 "nbformat_minor": 2
}
