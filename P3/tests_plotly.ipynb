{
 "cells": [
  {
   "cell_type": "code",
   "execution_count": 15,
   "metadata": {},
   "outputs": [
    {
     "ename": "ValueError",
     "evalue": "Invalid property specified for object of type plotly.graph_objs.layout.xaxis.Rangeslider: 'fixed'\n\nDid you mean \"yaxis\"?\n\n    Valid properties:\n        autorange\n            Determines whether or not the range slider range is\n            computed in relation to the input data. If `range` is\n            provided, then `autorange` is set to False.\n        bgcolor\n            Sets the background color of the range slider.\n        bordercolor\n            Sets the border color of the range slider.\n        borderwidth\n            Sets the border width of the range slider.\n        range\n            Sets the range of the range slider. If not set,\n            defaults to the full xaxis range. If the axis `type` is\n            \"log\", then you must take the log of your desired\n            range. If the axis `type` is \"date\", it should be date\n            strings, like date data, though Date objects and unix\n            milliseconds will be accepted and converted to strings.\n            If the axis `type` is \"category\", it should be numbers,\n            using the scale where each category is assigned a\n            serial number from zero in the order it appears.\n        thickness\n            The height of the range slider as a fraction of the\n            total plot area height.\n        visible\n            Determines whether or not the range slider will be\n            visible. If visible, perpendicular axes will be set to\n            `fixedrange`\n        yaxis\n            :class:`plotly.graph_objects.layout.xaxis.rangeslider.Y\n            Axis` instance or dict with compatible properties\n        \nDid you mean \"yaxis\"?\n\nBad property path:\nfixed_range\n^^^^^",
     "output_type": "error",
     "traceback": [
      "\u001b[1;31m---------------------------------------------------------------------------\u001b[0m",
      "\u001b[1;31mValueError\u001b[0m                                Traceback (most recent call last)",
      "\u001b[1;32mc:\\Users\\pujol\\EPFL\\Applied Data Analysis\\ADA2022\\Project\\ada-2022-project-croquemadame\\P3\\tests_plotly.ipynb Cell 1\u001b[0m in \u001b[0;36m<cell line: 22>\u001b[1;34m()\u001b[0m\n\u001b[0;32m     <a href='vscode-notebook-cell:/c%3A/Users/pujol/EPFL/Applied%20Data%20Analysis/ADA2022/Project/ada-2022-project-croquemadame/P3/tests_plotly.ipynb#W0sZmlsZQ%3D%3D?line=16'>17</a>\u001b[0m fig\u001b[39m.\u001b[39mupdate_layout(\n\u001b[0;32m     <a href='vscode-notebook-cell:/c%3A/Users/pujol/EPFL/Applied%20Data%20Analysis/ADA2022/Project/ada-2022-project-croquemadame/P3/tests_plotly.ipynb#W0sZmlsZQ%3D%3D?line=17'>18</a>\u001b[0m     title_text\u001b[39m=\u001b[39m\u001b[39m\"\u001b[39m\u001b[39mTime series with range slider and selectors\u001b[39m\u001b[39m\"\u001b[39m\n\u001b[0;32m     <a href='vscode-notebook-cell:/c%3A/Users/pujol/EPFL/Applied%20Data%20Analysis/ADA2022/Project/ada-2022-project-croquemadame/P3/tests_plotly.ipynb#W0sZmlsZQ%3D%3D?line=18'>19</a>\u001b[0m )\n\u001b[0;32m     <a href='vscode-notebook-cell:/c%3A/Users/pujol/EPFL/Applied%20Data%20Analysis/ADA2022/Project/ada-2022-project-croquemadame/P3/tests_plotly.ipynb#W0sZmlsZQ%3D%3D?line=20'>21</a>\u001b[0m \u001b[39m# Add range slider\u001b[39;00m\n\u001b[1;32m---> <a href='vscode-notebook-cell:/c%3A/Users/pujol/EPFL/Applied%20Data%20Analysis/ADA2022/Project/ada-2022-project-croquemadame/P3/tests_plotly.ipynb#W0sZmlsZQ%3D%3D?line=21'>22</a>\u001b[0m fig\u001b[39m.\u001b[39;49mupdate_layout(\n\u001b[0;32m     <a href='vscode-notebook-cell:/c%3A/Users/pujol/EPFL/Applied%20Data%20Analysis/ADA2022/Project/ada-2022-project-croquemadame/P3/tests_plotly.ipynb#W0sZmlsZQ%3D%3D?line=22'>23</a>\u001b[0m     xaxis\u001b[39m=\u001b[39;49m\u001b[39mdict\u001b[39;49m(\n\u001b[0;32m     <a href='vscode-notebook-cell:/c%3A/Users/pujol/EPFL/Applied%20Data%20Analysis/ADA2022/Project/ada-2022-project-croquemadame/P3/tests_plotly.ipynb#W0sZmlsZQ%3D%3D?line=23'>24</a>\u001b[0m         rangeslider\u001b[39m=\u001b[39;49m\u001b[39mdict\u001b[39;49m(\n\u001b[0;32m     <a href='vscode-notebook-cell:/c%3A/Users/pujol/EPFL/Applied%20Data%20Analysis/ADA2022/Project/ada-2022-project-croquemadame/P3/tests_plotly.ipynb#W0sZmlsZQ%3D%3D?line=24'>25</a>\u001b[0m             visible\u001b[39m=\u001b[39;49m\u001b[39mTrue\u001b[39;49;00m,\n\u001b[0;32m     <a href='vscode-notebook-cell:/c%3A/Users/pujol/EPFL/Applied%20Data%20Analysis/ADA2022/Project/ada-2022-project-croquemadame/P3/tests_plotly.ipynb#W0sZmlsZQ%3D%3D?line=25'>26</a>\u001b[0m             \u001b[39mrange\u001b[39;49m \u001b[39m=\u001b[39;49m [df\u001b[39m.\u001b[39;49mDate\u001b[39m.\u001b[39;49mmin(), df\u001b[39m.\u001b[39;49mDate\u001b[39m.\u001b[39;49mmax()],\n\u001b[0;32m     <a href='vscode-notebook-cell:/c%3A/Users/pujol/EPFL/Applied%20Data%20Analysis/ADA2022/Project/ada-2022-project-croquemadame/P3/tests_plotly.ipynb#W0sZmlsZQ%3D%3D?line=26'>27</a>\u001b[0m             fixed_range\u001b[39m=\u001b[39;49m \u001b[39mTrue\u001b[39;49;00m,\n\u001b[0;32m     <a href='vscode-notebook-cell:/c%3A/Users/pujol/EPFL/Applied%20Data%20Analysis/ADA2022/Project/ada-2022-project-croquemadame/P3/tests_plotly.ipynb#W0sZmlsZQ%3D%3D?line=27'>28</a>\u001b[0m \n\u001b[0;32m     <a href='vscode-notebook-cell:/c%3A/Users/pujol/EPFL/Applied%20Data%20Analysis/ADA2022/Project/ada-2022-project-croquemadame/P3/tests_plotly.ipynb#W0sZmlsZQ%3D%3D?line=28'>29</a>\u001b[0m         ),\n\u001b[0;32m     <a href='vscode-notebook-cell:/c%3A/Users/pujol/EPFL/Applied%20Data%20Analysis/ADA2022/Project/ada-2022-project-croquemadame/P3/tests_plotly.ipynb#W0sZmlsZQ%3D%3D?line=29'>30</a>\u001b[0m         \u001b[39mtype\u001b[39;49m\u001b[39m=\u001b[39;49m\u001b[39m\"\u001b[39;49m\u001b[39mdate\u001b[39;49m\u001b[39m\"\u001b[39;49m\n\u001b[0;32m     <a href='vscode-notebook-cell:/c%3A/Users/pujol/EPFL/Applied%20Data%20Analysis/ADA2022/Project/ada-2022-project-croquemadame/P3/tests_plotly.ipynb#W0sZmlsZQ%3D%3D?line=30'>31</a>\u001b[0m     )\n\u001b[0;32m     <a href='vscode-notebook-cell:/c%3A/Users/pujol/EPFL/Applied%20Data%20Analysis/ADA2022/Project/ada-2022-project-croquemadame/P3/tests_plotly.ipynb#W0sZmlsZQ%3D%3D?line=31'>32</a>\u001b[0m )\n\u001b[0;32m     <a href='vscode-notebook-cell:/c%3A/Users/pujol/EPFL/Applied%20Data%20Analysis/ADA2022/Project/ada-2022-project-croquemadame/P3/tests_plotly.ipynb#W0sZmlsZQ%3D%3D?line=33'>34</a>\u001b[0m fig\u001b[39m.\u001b[39mshow()\n",
      "File \u001b[1;32mc:\\Users\\pujol\\anaconda3\\envs\\ada\\lib\\site-packages\\plotly\\graph_objs\\_figure.py:762\u001b[0m, in \u001b[0;36mFigure.update_layout\u001b[1;34m(self, dict1, overwrite, **kwargs)\u001b[0m\n\u001b[0;32m    736\u001b[0m \u001b[39mdef\u001b[39;00m \u001b[39mupdate_layout\u001b[39m(\u001b[39mself\u001b[39m, dict1\u001b[39m=\u001b[39m\u001b[39mNone\u001b[39;00m, overwrite\u001b[39m=\u001b[39m\u001b[39mFalse\u001b[39;00m, \u001b[39m*\u001b[39m\u001b[39m*\u001b[39mkwargs) \u001b[39m-\u001b[39m\u001b[39m>\u001b[39m \u001b[39m\"\u001b[39m\u001b[39mFigure\u001b[39m\u001b[39m\"\u001b[39m:\n\u001b[0;32m    737\u001b[0m     \u001b[39m\"\"\"\u001b[39;00m\n\u001b[0;32m    738\u001b[0m \n\u001b[0;32m    739\u001b[0m \u001b[39m    Update the properties of the figure's layout with a dict and/or with\u001b[39;00m\n\u001b[1;32m   (...)\u001b[0m\n\u001b[0;32m    760\u001b[0m \n\u001b[0;32m    761\u001b[0m \u001b[39m    \"\"\"\u001b[39;00m\n\u001b[1;32m--> 762\u001b[0m     \u001b[39mreturn\u001b[39;00m \u001b[39msuper\u001b[39m(Figure, \u001b[39mself\u001b[39m)\u001b[39m.\u001b[39mupdate_layout(dict1, overwrite, \u001b[39m*\u001b[39m\u001b[39m*\u001b[39mkwargs)\n",
      "File \u001b[1;32mc:\\Users\\pujol\\anaconda3\\envs\\ada\\lib\\site-packages\\plotly\\basedatatypes.py:1401\u001b[0m, in \u001b[0;36mBaseFigure.update_layout\u001b[1;34m(self, dict1, overwrite, **kwargs)\u001b[0m\n\u001b[0;32m   1377\u001b[0m \u001b[39mdef\u001b[39;00m \u001b[39mupdate_layout\u001b[39m(\u001b[39mself\u001b[39m, dict1\u001b[39m=\u001b[39m\u001b[39mNone\u001b[39;00m, overwrite\u001b[39m=\u001b[39m\u001b[39mFalse\u001b[39;00m, \u001b[39m*\u001b[39m\u001b[39m*\u001b[39mkwargs):\n\u001b[0;32m   1378\u001b[0m     \u001b[39m\"\"\"\u001b[39;00m\n\u001b[0;32m   1379\u001b[0m \u001b[39m    Update the properties of the figure's layout with a dict and/or with\u001b[39;00m\n\u001b[0;32m   1380\u001b[0m \u001b[39m    keyword arguments.\u001b[39;00m\n\u001b[1;32m   (...)\u001b[0m\n\u001b[0;32m   1399\u001b[0m \u001b[39m        The Figure object that the update_layout method was called on\u001b[39;00m\n\u001b[0;32m   1400\u001b[0m \u001b[39m    \"\"\"\u001b[39;00m\n\u001b[1;32m-> 1401\u001b[0m     \u001b[39mself\u001b[39m\u001b[39m.\u001b[39mlayout\u001b[39m.\u001b[39mupdate(dict1, overwrite\u001b[39m=\u001b[39moverwrite, \u001b[39m*\u001b[39m\u001b[39m*\u001b[39mkwargs)\n\u001b[0;32m   1402\u001b[0m     \u001b[39mreturn\u001b[39;00m \u001b[39mself\u001b[39m\n",
      "File \u001b[1;32mc:\\Users\\pujol\\anaconda3\\envs\\ada\\lib\\site-packages\\plotly\\basedatatypes.py:5122\u001b[0m, in \u001b[0;36mBasePlotlyType.update\u001b[1;34m(self, dict1, overwrite, **kwargs)\u001b[0m\n\u001b[0;32m   5120\u001b[0m     \u001b[39mwith\u001b[39;00m \u001b[39mself\u001b[39m\u001b[39m.\u001b[39mfigure\u001b[39m.\u001b[39mbatch_update():\n\u001b[0;32m   5121\u001b[0m         BaseFigure\u001b[39m.\u001b[39m_perform_update(\u001b[39mself\u001b[39m, dict1, overwrite\u001b[39m=\u001b[39moverwrite)\n\u001b[1;32m-> 5122\u001b[0m         BaseFigure\u001b[39m.\u001b[39;49m_perform_update(\u001b[39mself\u001b[39;49m, kwargs, overwrite\u001b[39m=\u001b[39;49moverwrite)\n\u001b[0;32m   5123\u001b[0m \u001b[39melse\u001b[39;00m:\n\u001b[0;32m   5124\u001b[0m     BaseFigure\u001b[39m.\u001b[39m_perform_update(\u001b[39mself\u001b[39m, dict1, overwrite\u001b[39m=\u001b[39moverwrite)\n",
      "File \u001b[1;32mc:\\Users\\pujol\\anaconda3\\envs\\ada\\lib\\site-packages\\plotly\\basedatatypes.py:3908\u001b[0m, in \u001b[0;36mBaseFigure._perform_update\u001b[1;34m(plotly_obj, update_obj, overwrite)\u001b[0m\n\u001b[0;32m   3902\u001b[0m validator \u001b[39m=\u001b[39m plotly_obj\u001b[39m.\u001b[39m_get_prop_validator(key)\n\u001b[0;32m   3904\u001b[0m \u001b[39mif\u001b[39;00m \u001b[39misinstance\u001b[39m(validator, CompoundValidator) \u001b[39mand\u001b[39;00m \u001b[39misinstance\u001b[39m(val, \u001b[39mdict\u001b[39m):\n\u001b[0;32m   3905\u001b[0m \n\u001b[0;32m   3906\u001b[0m     \u001b[39m# Update compound objects recursively\u001b[39;00m\n\u001b[0;32m   3907\u001b[0m     \u001b[39m# plotly_obj[key].update(val)\u001b[39;00m\n\u001b[1;32m-> 3908\u001b[0m     BaseFigure\u001b[39m.\u001b[39;49m_perform_update(plotly_obj[key], val)\n\u001b[0;32m   3909\u001b[0m \u001b[39melif\u001b[39;00m \u001b[39misinstance\u001b[39m(validator, CompoundArrayValidator):\n\u001b[0;32m   3910\u001b[0m     \u001b[39mif\u001b[39;00m plotly_obj[key]:\n\u001b[0;32m   3911\u001b[0m         \u001b[39m# plotly_obj has an existing non-empty array for key\u001b[39;00m\n\u001b[0;32m   3912\u001b[0m         \u001b[39m# In this case we merge val into the existing elements\u001b[39;00m\n",
      "File \u001b[1;32mc:\\Users\\pujol\\anaconda3\\envs\\ada\\lib\\site-packages\\plotly\\basedatatypes.py:3908\u001b[0m, in \u001b[0;36mBaseFigure._perform_update\u001b[1;34m(plotly_obj, update_obj, overwrite)\u001b[0m\n\u001b[0;32m   3902\u001b[0m validator \u001b[39m=\u001b[39m plotly_obj\u001b[39m.\u001b[39m_get_prop_validator(key)\n\u001b[0;32m   3904\u001b[0m \u001b[39mif\u001b[39;00m \u001b[39misinstance\u001b[39m(validator, CompoundValidator) \u001b[39mand\u001b[39;00m \u001b[39misinstance\u001b[39m(val, \u001b[39mdict\u001b[39m):\n\u001b[0;32m   3905\u001b[0m \n\u001b[0;32m   3906\u001b[0m     \u001b[39m# Update compound objects recursively\u001b[39;00m\n\u001b[0;32m   3907\u001b[0m     \u001b[39m# plotly_obj[key].update(val)\u001b[39;00m\n\u001b[1;32m-> 3908\u001b[0m     BaseFigure\u001b[39m.\u001b[39;49m_perform_update(plotly_obj[key], val)\n\u001b[0;32m   3909\u001b[0m \u001b[39melif\u001b[39;00m \u001b[39misinstance\u001b[39m(validator, CompoundArrayValidator):\n\u001b[0;32m   3910\u001b[0m     \u001b[39mif\u001b[39;00m plotly_obj[key]:\n\u001b[0;32m   3911\u001b[0m         \u001b[39m# plotly_obj has an existing non-empty array for key\u001b[39;00m\n\u001b[0;32m   3912\u001b[0m         \u001b[39m# In this case we merge val into the existing elements\u001b[39;00m\n",
      "File \u001b[1;32mc:\\Users\\pujol\\anaconda3\\envs\\ada\\lib\\site-packages\\plotly\\basedatatypes.py:3885\u001b[0m, in \u001b[0;36mBaseFigure._perform_update\u001b[1;34m(plotly_obj, update_obj, overwrite)\u001b[0m\n\u001b[0;32m   3881\u001b[0m                 \u001b[39mcontinue\u001b[39;00m\n\u001b[0;32m   3882\u001b[0m         \u001b[39m# If no match, raise the error, which should already\u001b[39;00m\n\u001b[0;32m   3883\u001b[0m         \u001b[39m# contain the _raise_on_invalid_property_error\u001b[39;00m\n\u001b[0;32m   3884\u001b[0m         \u001b[39m# generated message\u001b[39;00m\n\u001b[1;32m-> 3885\u001b[0m         \u001b[39mraise\u001b[39;00m err\n\u001b[0;32m   3887\u001b[0m \u001b[39m# Convert update_obj to dict\u001b[39;00m\n\u001b[0;32m   3888\u001b[0m \u001b[39m# --------------------------\u001b[39;00m\n\u001b[0;32m   3889\u001b[0m \u001b[39mif\u001b[39;00m \u001b[39misinstance\u001b[39m(update_obj, BasePlotlyType):\n",
      "\u001b[1;31mValueError\u001b[0m: Invalid property specified for object of type plotly.graph_objs.layout.xaxis.Rangeslider: 'fixed'\n\nDid you mean \"yaxis\"?\n\n    Valid properties:\n        autorange\n            Determines whether or not the range slider range is\n            computed in relation to the input data. If `range` is\n            provided, then `autorange` is set to False.\n        bgcolor\n            Sets the background color of the range slider.\n        bordercolor\n            Sets the border color of the range slider.\n        borderwidth\n            Sets the border width of the range slider.\n        range\n            Sets the range of the range slider. If not set,\n            defaults to the full xaxis range. If the axis `type` is\n            \"log\", then you must take the log of your desired\n            range. If the axis `type` is \"date\", it should be date\n            strings, like date data, though Date objects and unix\n            milliseconds will be accepted and converted to strings.\n            If the axis `type` is \"category\", it should be numbers,\n            using the scale where each category is assigned a\n            serial number from zero in the order it appears.\n        thickness\n            The height of the range slider as a fraction of the\n            total plot area height.\n        visible\n            Determines whether or not the range slider will be\n            visible. If visible, perpendicular axes will be set to\n            `fixedrange`\n        yaxis\n            :class:`plotly.graph_objects.layout.xaxis.rangeslider.Y\n            Axis` instance or dict with compatible properties\n        \nDid you mean \"yaxis\"?\n\nBad property path:\nfixed_range\n^^^^^"
     ]
    }
   ],
   "source": [
    "import plotly.graph_objects as go\n",
    "\n",
    "import pandas as pd\n",
    "\n",
    "# Load data\n",
    "df = pd.read_csv(\n",
    "    \"https://raw.githubusercontent.com/plotly/datasets/master/finance-charts-apple.csv\")\n",
    "df.columns = [col.replace(\"AAPL.\", \"\") for col in df.columns]\n",
    "\n",
    "# Create figure\n",
    "fig = go.Figure()\n",
    "\n",
    "fig.add_trace(\n",
    "    go.Scatter(x=list(df.Date), y=list(df.High)))\n",
    "\n",
    "# Set title\n",
    "fig.update_layout(\n",
    "    title_text=\"Time series with range slider and selectors\"\n",
    ")\n",
    "\n",
    "# Add range slider\n",
    "fig.update_layout(\n",
    "    xaxis=dict(\n",
    "        rangeslider=dict(\n",
    "            visible=True,\n",
    "            range = [df.Date.min(), df.Date.max()],\n",
    "        ),\n",
    "        type=\"date\"\n",
    "    )\n",
    ")\n",
    "\n",
    "fig.show()"
   ]
  }
 ],
 "metadata": {
  "kernelspec": {
   "display_name": "ada",
   "language": "python",
   "name": "python3"
  },
  "language_info": {
   "codemirror_mode": {
    "name": "ipython",
    "version": 3
   },
   "file_extension": ".py",
   "mimetype": "text/x-python",
   "name": "python",
   "nbconvert_exporter": "python",
   "pygments_lexer": "ipython3",
   "version": "3.9.13"
  },
  "orig_nbformat": 4,
  "vscode": {
   "interpreter": {
    "hash": "18c32a2b66552a3f09b8a3b497862286fc4b79643dbf6273d2fe975b8b827621"
   }
  }
 },
 "nbformat": 4,
 "nbformat_minor": 2
}
