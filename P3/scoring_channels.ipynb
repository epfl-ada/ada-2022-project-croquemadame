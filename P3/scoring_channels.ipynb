{
 "cells": [
  {
   "cell_type": "code",
   "execution_count": 1,
   "metadata": {},
   "outputs": [],
   "source": [
    "### IMPORTS ###\n",
    "# import used libraries\n",
    "import pandas as pd                        # pandas for data analysis\n",
    "pd.options.mode.chained_assignment = None  # default='warn'\n",
    "import matplotlib.pyplot as plt            # matplotlib for data visualisation"
   ]
  },
  {
   "cell_type": "code",
   "execution_count": 2,
   "metadata": {},
   "outputs": [],
   "source": [
    "### PATHS ###\n",
    "\n",
    "DIR = \"../data/\"\n",
    "\n",
    "#read\n",
    "TIMESERIES_PATH = DIR + \"original_timeseries.tsv.gz\" \n",
    "CHANNELS_PATH   = DIR + \"original_channels.tsv.gz\"\n",
    "\n",
    "#write\n",
    "PROCESSED_TIMESERIES_PATH = DIR + \"processed_timeseries.tsv.zip\"\n",
    "SCORED_CHANNELS_PATH   = DIR + \"scored_channels.tsv.zip\" "
   ]
  },
  {
   "cell_type": "code",
   "execution_count": 4,
   "metadata": {},
   "outputs": [],
   "source": [
    "### READS ###\n",
    "\n",
    "timeseries = pd.read_csv(TIMESERIES_PATH, sep='\\t')\n",
    "channels   = pd.read_csv(CHANNELS_PATH, sep='\\t')\n",
    "\n",
    "#set dates format\n",
    "timeseries['datetime'] = pd.to_datetime(timeseries['datetime'])\n",
    "channels['join_date'] = pd.to_datetime(channels['join_date'])"
   ]
  },
  {
   "cell_type": "code",
   "execution_count": 5,
   "metadata": {},
   "outputs": [],
   "source": [
    "### CHOOSE FOCUS CHANNELS ###\n",
    "\n",
    "#compute the number of subs at the start of the period for each youtuber \n",
    "channels = pd.merge(channels,\n",
    "                    timeseries.sort_values(by='datetime').drop_duplicates('channel')[['channel','subs']].rename(columns={\"subs\":\"initial_subs\"}),\n",
    "                    on = 'channel')\n",
    "\n",
    "#keep only channels that started between 10k and 15k from the entertaining category\n",
    "ent_channels = channels[(channels['initial_subs'] > 10e3) &\n",
    "                        (channels['initial_subs'] < 15e3) &\n",
    "                        (channels['category_cc'] == 'Entertainment')]\n",
    "\n",
    "#keep the intersection between the choosen channels and \n",
    "channel_ids = ent_channels[['channel']].drop_duplicates()\n",
    "ent_timeseries = pd.merge(timeseries, channel_ids)\n",
    "channel_ids = ent_timeseries[['channel']].drop_duplicates()\n",
    "ent_channels = pd.merge(ent_channels, channel_ids)"
   ]
  },
  {
   "cell_type": "code",
   "execution_count": 6,
   "metadata": {},
   "outputs": [],
   "source": [
    "### SCORING CHANNELS ###\n",
    "\n",
    "#compute the weekly growth for each channel in the timeseries\n",
    "ent_timeseries['weekly_growth'] = ent_timeseries['delta_subs']/ent_timeseries['subs']\n",
    "\n",
    "#compute the average growth score per channel\n",
    "growth_score = ent_timeseries.groupby('channel').mean()['weekly_growth'].rename('growth_score')\n",
    "ent_channels = pd.merge(ent_channels, growth_score, on='channel')\n",
    "\n",
    "#keeps only 25% top and 25% bottom channels\n",
    "top_channels = ent_channels.nlargest(int(len(ent_channels)*0.25), 'growth_score')[['channel','growth_score']]\n",
    "bottom_channels = ent_channels.nsmallest(int(len(ent_channels)*0.25), 'growth_score')[['channel','growth_score']]\n",
    "evo_channels = pd.concat([top_channels, bottom_channels]).sort_values('growth_score', ascending=False)\n",
    "evo_channels['has_buzzed'] = 0 + 1 * (evo_channels['growth_score'] > bottom_channels['growth_score'].max())\n",
    "\n",
    "ent_channels = pd.merge(ent_channels, evo_channels.drop(['growth_score'], axis=1), on='channel')\n",
    "ent_timeseries = pd.merge(ent_timeseries, ent_channels[['channel', 'has_buzzed']], on='channel')"
   ]
  },
  {
   "cell_type": "code",
   "execution_count": 7,
   "metadata": {},
   "outputs": [],
   "source": [
    "### SAVE PROCESSED DATA ###\n",
    "\n",
    "ent_channels.to_csv(SCORED_CHANNELS_PATH, index=False, compression={'method':'zip'})\n",
    "ent_timeseries.to_csv(PROCESSED_TIMESERIES_PATH, index=False, compression={'method':'zip'})"
   ]
  }
 ],
 "metadata": {
  "kernelspec": {
   "display_name": "ada",
   "language": "python",
   "name": "python3"
  },
  "language_info": {
   "codemirror_mode": {
    "name": "ipython",
    "version": 3
   },
   "file_extension": ".py",
   "mimetype": "text/x-python",
   "name": "python",
   "nbconvert_exporter": "python",
   "pygments_lexer": "ipython3",
   "version": "3.9.13"
  },
  "orig_nbformat": 4,
  "vscode": {
   "interpreter": {
    "hash": "18c32a2b66552a3f09b8a3b497862286fc4b79643dbf6273d2fe975b8b827621"
   }
  }
 },
 "nbformat": 4,
 "nbformat_minor": 2
}
